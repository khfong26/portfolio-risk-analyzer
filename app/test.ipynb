{
 "cells": [
  {
   "cell_type": "code",
   "execution_count": 4,
   "id": "d1fe211e",
   "metadata": {},
   "outputs": [],
   "source": [
    "import yfinance as yf\n",
    "import numpy as np\n",
    "import pandas as pd"
   ]
  },
  {
   "cell_type": "code",
   "execution_count": 22,
   "id": "14988cf5",
   "metadata": {},
   "outputs": [],
   "source": [
    "def get_price_data(tickers, start_date, end_date):\n",
    "    \"\"\"\n",
    "    Download adjusted close prices for given tickers and date range.\n",
    "    Returns a DataFrame with dates as index and tickers as columns.\n",
    "    \"\"\"\n",
    "    data = yf.download(tickers, start=start_date, end=end_date, auto_adjust=False)['Adj Close']\n",
    "    return data.dropna()\n",
    "\n"
   ]
  },
  {
   "cell_type": "code",
   "execution_count": 6,
   "id": "61395834",
   "metadata": {},
   "outputs": [],
   "source": [
    "\n",
    "def compute_daily_returns(price_df):\n",
    "    \"\"\"\n",
    "    Compute daily returns from price data.\n",
    "    \"\"\"\n",
    "    return price_df.pct_change().dropna()\n"
   ]
  },
  {
   "cell_type": "code",
   "execution_count": 7,
   "id": "ce136f90",
   "metadata": {},
   "outputs": [],
   "source": [
    "\n",
    "def portfolio_returns(daily_returns, weights):\n",
    "    \"\"\"\n",
    "    Calculate portfolio daily returns given individual daily returns and weights.\n",
    "    weights should be a list or array in the same order as columns of daily_returns.\n",
    "    \"\"\"\n",
    "    weights = np.array(weights)\n",
    "    return daily_returns.dot(weights)\n"
   ]
  },
  {
   "cell_type": "code",
   "execution_count": null,
   "id": "cc44c737",
   "metadata": {},
   "outputs": [],
   "source": [
    "\n",
    "def portfolio_volatility(portfolio_ret):\n",
    "    \"\"\"\n",
    "    Annualized volatility of portfolio returns.\n",
    "    \"\"\"\n",
    "\n",
    "    return portfolio_ret.std() * np.sqrt(len(portfolio_ret))\n"
   ]
  },
  {
   "cell_type": "code",
   "execution_count": 9,
   "id": "fda6fe93",
   "metadata": {},
   "outputs": [],
   "source": [
    "\n",
    "def historical_var(portfolio_ret, confidence_level=0.95):\n",
    "    \"\"\"\n",
    "    Historical Value at Risk (VaR).\n",
    "    Returns the loss at the specified confidence level.\n",
    "    \"\"\"\n",
    "    # Calculate the percentile of losses (negative returns)\n",
    "    var = np.percentile(portfolio_ret, 100 * (1 - confidence_level))\n",
    "    return var"
   ]
  },
  {
   "cell_type": "code",
   "execution_count": 10,
   "id": "8ebc2dc3",
   "metadata": {},
   "outputs": [],
   "source": [
    "tickers = ['AAPL', 'MSFT', 'TSLA']\n",
    "weights = [0.4, 0.4, 0.2]\n",
    "start_date = '2022-01-01'\n",
    "end_date = '2023-01-01'\n"
   ]
  },
  {
   "cell_type": "code",
   "execution_count": 24,
   "id": "69be980d",
   "metadata": {},
   "outputs": [
    {
     "name": "stderr",
     "output_type": "stream",
     "text": [
      "[*********************100%***********************]  3 of 3 completed\n"
     ]
    }
   ],
   "source": [
    "\n",
    "prices = get_price_data(tickers, start_date, end_date)\n"
   ]
  },
  {
   "cell_type": "code",
   "execution_count": 38,
   "id": "d2eb5346",
   "metadata": {},
   "outputs": [
    {
     "data": {
      "text/html": [
       "<div>\n",
       "<style scoped>\n",
       "    .dataframe tbody tr th:only-of-type {\n",
       "        vertical-align: middle;\n",
       "    }\n",
       "\n",
       "    .dataframe tbody tr th {\n",
       "        vertical-align: top;\n",
       "    }\n",
       "\n",
       "    .dataframe thead th {\n",
       "        text-align: right;\n",
       "    }\n",
       "</style>\n",
       "<table border=\"1\" class=\"dataframe\">\n",
       "  <thead>\n",
       "    <tr style=\"text-align: right;\">\n",
       "      <th>Ticker</th>\n",
       "      <th>AAPL</th>\n",
       "      <th>MSFT</th>\n",
       "      <th>TSLA</th>\n",
       "    </tr>\n",
       "    <tr>\n",
       "      <th>Date</th>\n",
       "      <th></th>\n",
       "      <th></th>\n",
       "      <th></th>\n",
       "    </tr>\n",
       "  </thead>\n",
       "  <tbody>\n",
       "    <tr>\n",
       "      <th>2022-01-03</th>\n",
       "      <td>178.645630</td>\n",
       "      <td>325.038025</td>\n",
       "      <td>399.926666</td>\n",
       "    </tr>\n",
       "    <tr>\n",
       "      <th>2022-01-04</th>\n",
       "      <td>176.378342</td>\n",
       "      <td>319.464600</td>\n",
       "      <td>383.196655</td>\n",
       "    </tr>\n",
       "    <tr>\n",
       "      <th>2022-01-05</th>\n",
       "      <td>171.686676</td>\n",
       "      <td>307.200989</td>\n",
       "      <td>362.706665</td>\n",
       "    </tr>\n",
       "    <tr>\n",
       "      <th>2022-01-06</th>\n",
       "      <td>168.820709</td>\n",
       "      <td>304.773560</td>\n",
       "      <td>354.899994</td>\n",
       "    </tr>\n",
       "    <tr>\n",
       "      <th>2022-01-07</th>\n",
       "      <td>168.987549</td>\n",
       "      <td>304.928955</td>\n",
       "      <td>342.320007</td>\n",
       "    </tr>\n",
       "    <tr>\n",
       "      <th>...</th>\n",
       "      <td>...</td>\n",
       "      <td>...</td>\n",
       "      <td>...</td>\n",
       "    </tr>\n",
       "    <tr>\n",
       "      <th>2022-12-23</th>\n",
       "      <td>130.173782</td>\n",
       "      <td>233.975891</td>\n",
       "      <td>123.150002</td>\n",
       "    </tr>\n",
       "    <tr>\n",
       "      <th>2022-12-27</th>\n",
       "      <td>128.367172</td>\n",
       "      <td>232.241150</td>\n",
       "      <td>109.099998</td>\n",
       "    </tr>\n",
       "    <tr>\n",
       "      <th>2022-12-28</th>\n",
       "      <td>124.428207</td>\n",
       "      <td>229.859497</td>\n",
       "      <td>112.709999</td>\n",
       "    </tr>\n",
       "    <tr>\n",
       "      <th>2022-12-29</th>\n",
       "      <td>127.952560</td>\n",
       "      <td>236.210449</td>\n",
       "      <td>121.820000</td>\n",
       "    </tr>\n",
       "    <tr>\n",
       "      <th>2022-12-30</th>\n",
       "      <td>128.268448</td>\n",
       "      <td>235.044174</td>\n",
       "      <td>123.180000</td>\n",
       "    </tr>\n",
       "  </tbody>\n",
       "</table>\n",
       "<p>251 rows × 3 columns</p>\n",
       "</div>"
      ],
      "text/plain": [
       "Ticker            AAPL        MSFT        TSLA\n",
       "Date                                          \n",
       "2022-01-03  178.645630  325.038025  399.926666\n",
       "2022-01-04  176.378342  319.464600  383.196655\n",
       "2022-01-05  171.686676  307.200989  362.706665\n",
       "2022-01-06  168.820709  304.773560  354.899994\n",
       "2022-01-07  168.987549  304.928955  342.320007\n",
       "...                ...         ...         ...\n",
       "2022-12-23  130.173782  233.975891  123.150002\n",
       "2022-12-27  128.367172  232.241150  109.099998\n",
       "2022-12-28  124.428207  229.859497  112.709999\n",
       "2022-12-29  127.952560  236.210449  121.820000\n",
       "2022-12-30  128.268448  235.044174  123.180000\n",
       "\n",
       "[251 rows x 3 columns]"
      ]
     },
     "execution_count": 38,
     "metadata": {},
     "output_type": "execute_result"
    }
   ],
   "source": [
    "prices\n",
    "#returns"
   ]
  },
  {
   "cell_type": "code",
   "execution_count": 25,
   "id": "b2ed8878",
   "metadata": {},
   "outputs": [],
   "source": [
    "\n",
    "returns = compute_daily_returns(prices)\n"
   ]
  },
  {
   "cell_type": "code",
   "execution_count": 36,
   "id": "1df24a77",
   "metadata": {},
   "outputs": [
    {
     "data": {
      "text/plain": [
       "Ticker\n",
       "AAPL   -0.012692\n",
       "MSFT   -0.017147\n",
       "TSLA   -0.041833\n",
       "Name: 2022-01-04 00:00:00, dtype: float64"
      ]
     },
     "execution_count": 36,
     "metadata": {},
     "output_type": "execute_result"
    }
   ],
   "source": [
    "returns.iloc[0]"
   ]
  },
  {
   "cell_type": "code",
   "execution_count": 37,
   "id": "8150fd67",
   "metadata": {},
   "outputs": [
    {
     "data": {
      "text/plain": [
       "-0.0203022"
      ]
     },
     "execution_count": 37,
     "metadata": {},
     "output_type": "execute_result"
    }
   ],
   "source": [
    "-0.012692 * weights[0] + -0.017147 * weights[1] + -0.041833 * weights[2]"
   ]
  },
  {
   "cell_type": "code",
   "execution_count": 33,
   "id": "eca17c67",
   "metadata": {},
   "outputs": [
    {
     "data": {
      "text/plain": [
       "Date\n",
       "2022-01-04   -0.020302\n",
       "2022-01-05   -0.036689\n",
       "2022-01-06   -0.014143\n",
       "2022-01-07   -0.006490\n",
       "2022-01-10    0.006408\n",
       "                ...   \n",
       "2022-12-23   -0.003723\n",
       "2022-12-27   -0.031335\n",
       "2022-12-28   -0.009758\n",
       "2022-12-29    0.038547\n",
       "2022-12-30    0.001245\n",
       "Length: 250, dtype: float64"
      ]
     },
     "execution_count": 33,
     "metadata": {},
     "output_type": "execute_result"
    }
   ],
   "source": [
    "port_ret"
   ]
  },
  {
   "cell_type": "code",
   "execution_count": 40,
   "id": "ce32459a",
   "metadata": {},
   "outputs": [
    {
     "data": {
      "text/plain": [
       "np.float64(0.3679667893100652)"
      ]
     },
     "execution_count": 40,
     "metadata": {},
     "output_type": "execute_result"
    }
   ],
   "source": [
    "vol"
   ]
  },
  {
   "cell_type": "code",
   "execution_count": 26,
   "id": "0813859a",
   "metadata": {},
   "outputs": [],
   "source": [
    "\n",
    "port_ret = portfolio_returns(returns, weights)\n",
    "vol = portfolio_volatility(port_ret)\n",
    "var_95 = historical_var(port_ret)\n"
   ]
  },
  {
   "cell_type": "code",
   "execution_count": 27,
   "id": "c5595c04",
   "metadata": {},
   "outputs": [
    {
     "name": "stdout",
     "output_type": "stream",
     "text": [
      "Annualized Volatility: 36.80%\n",
      "Historical VaR (95% confidence): -3.87%\n"
     ]
    }
   ],
   "source": [
    "\n",
    "print(f\"Annualized Volatility: {vol:.2%}\")\n",
    "print(f\"Historical VaR (95% confidence): {var_95:.2%}\")"
   ]
  },
  {
   "cell_type": "code",
   "execution_count": 39,
   "id": "1611c842",
   "metadata": {},
   "outputs": [],
   "source": [
    "from scipy.stats import norm\n",
    "\n",
    "def parametric_var(portfolio_returns, confidence_level=0.95):\n",
    "    mean_return = np.mean(portfolio_returns)\n",
    "    std_dev = np.std(portfolio_returns)\n",
    "    z_score = norm.ppf(1 - confidence_level)\n",
    "    var = -(mean_return + z_score * std_dev)\n",
    "    return var\n"
   ]
  },
  {
   "cell_type": "code",
   "execution_count": 43,
   "id": "f05e8f5d",
   "metadata": {},
   "outputs": [],
   "source": [
    "\n",
    "import pandas_market_calendars as mcal\n",
    "\n",
    "def is_trading_period(start, end):\n",
    "    try:\n",
    "        nyse = mcal.get_calendar('NYSE')\n",
    "        schedule = nyse.schedule(start_date=start, end_date=end)\n",
    "        return not schedule.empty\n",
    "    except Exception as e:\n",
    "        print(f\"Error checking trading calendar: {e}\")\n",
    "        return False\n"
   ]
  },
  {
   "cell_type": "code",
   "execution_count": null,
   "id": "d88adfb7",
   "metadata": {},
   "outputs": [],
   "source": []
  }
 ],
 "metadata": {
  "kernelspec": {
   "display_name": "Python 3",
   "language": "python",
   "name": "python3"
  },
  "language_info": {
   "codemirror_mode": {
    "name": "ipython",
    "version": 3
   },
   "file_extension": ".py",
   "mimetype": "text/x-python",
   "name": "python",
   "nbconvert_exporter": "python",
   "pygments_lexer": "ipython3",
   "version": "3.13.5"
  }
 },
 "nbformat": 4,
 "nbformat_minor": 5
}
